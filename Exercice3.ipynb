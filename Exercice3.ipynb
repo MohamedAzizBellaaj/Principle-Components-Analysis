{
 "cells": [
  {
   "cell_type": "code",
   "execution_count": 13,
   "metadata": {
    "ExecuteTime": {
     "end_time": "2023-04-29T17:56:38.997080Z",
     "start_time": "2023-04-29T17:56:38.022800Z"
    }
   },
   "outputs": [],
   "source": [
    "import numpy as np\n",
    "from sklearn.preprocessing import StandardScaler\n",
    "from numpy.linalg import eigvals\n",
    "from numpy.linalg import eig\n"
   ]
  },
  {
   "cell_type": "code",
   "execution_count": 14,
   "metadata": {
    "ExecuteTime": {
     "end_time": "2023-04-29T17:56:39.003483Z",
     "start_time": "2023-04-29T17:56:38.996027Z"
    }
   },
   "outputs": [
    {
     "name": "stdout",
     "output_type": "stream",
     "text": [
      "X is:\n",
      "[[ 2.4         3.06666667  1.8        -2.4        -1.         -0.8       ]\n",
      " [ 1.4         1.06666667  0.8        -0.4         0.         -0.8       ]\n",
      " [-0.6        -0.93333333 -0.2         0.6         0.          0.2       ]\n",
      " [ 2.4         1.06666667  2.8         0.6         2.          1.2       ]\n",
      " [ 1.4         2.06666667  0.8        -0.4         1.          0.2       ]\n",
      " [-0.6        -1.93333333 -1.2         0.6        -1.         -0.8       ]\n",
      " [ 0.4         1.06666667  1.8        -0.4         2.          2.2       ]\n",
      " [-1.6         0.06666667 -1.2         1.6         1.          1.2       ]\n",
      " [-2.6        -0.93333333 -2.2         0.6        -1.         -1.8       ]\n",
      " [-0.6        -1.93333333 -1.2         0.6        -1.         -1.8       ]\n",
      " [-1.6         0.06666667 -1.2        -1.4        -2.         -0.8       ]\n",
      " [ 1.4         0.06666667  1.8        -0.4        -1.          0.2       ]\n",
      " [ 0.4         0.06666667  0.8         0.6         0.          1.2       ]\n",
      " [-1.6        -1.93333333 -2.2         0.6         0.          0.2       ]\n",
      " [-0.6        -0.93333333 -1.2        -0.4         1.          0.2       ]]\n"
     ]
    }
   ],
   "source": [
    "# Load CSV file into a numpy array\n",
    "X = np.genfromtxt(\"./data/Ex3_data.csv\", delimiter=\",\")\n",
    "\n",
    "# Print the data\n",
    "print(f\"X is:\\n{X}\")\n"
   ]
  },
  {
   "cell_type": "code",
   "execution_count": 15,
   "metadata": {
    "ExecuteTime": {
     "end_time": "2023-04-29T17:56:39.008020Z",
     "start_time": "2023-04-29T17:56:39.003483Z"
    }
   },
   "outputs": [
    {
     "name": "stdout",
     "output_type": "stream",
     "text": [
      "The standardized data matrix Z is:\n",
      "[[ 1.60356745  2.13549639  1.15549333 -2.52050415 -0.8660254  -0.72231512]\n",
      " [ 0.93541435  0.74278135  0.51355259 -0.42008403  0.         -0.72231512]\n",
      " [-0.40089186 -0.64993368 -0.12838815  0.63012604  0.          0.18057878]\n",
      " [ 1.60356745  0.74278135  1.79743407  0.63012604  1.73205081  1.08347268]\n",
      " [ 0.93541435  1.43913887  0.51355259 -0.42008403  0.8660254   0.18057878]\n",
      " [-0.40089186 -1.3462912  -0.77032889  0.63012604 -0.8660254  -0.72231512]\n",
      " [ 0.26726124  0.74278135  1.15549333 -0.42008403  1.73205081  1.98636658]\n",
      " [-1.06904497  0.04642383 -0.77032889  1.6803361   0.8660254   1.08347268]\n",
      " [-1.73719807 -0.64993368 -1.41226963  0.63012604 -0.8660254  -1.62520902]\n",
      " [-0.40089186 -1.3462912  -0.77032889  0.63012604 -0.8660254  -1.62520902]\n",
      " [-1.06904497  0.04642383 -0.77032889 -1.47029409 -1.73205081 -0.72231512]\n",
      " [ 0.93541435  0.04642383  1.15549333 -0.42008403 -0.8660254   0.18057878]\n",
      " [ 0.26726124  0.04642383  0.51355259  0.63012604  0.          1.08347268]\n",
      " [-1.06904497 -1.3462912  -1.41226963  0.63012604  0.          0.18057878]\n",
      " [-0.40089186 -0.64993368 -0.77032889 -0.42008403  0.8660254   0.18057878]]\n"
     ]
    }
   ],
   "source": [
    "# 1. Determine the standardized data matrix Z.\n",
    "scaler = StandardScaler()\n",
    "Z = scaler.fit_transform(X)\n",
    "\n",
    "print(f\"The standardized data matrix Z is:\\n{Z}\")\n"
   ]
  },
  {
   "cell_type": "code",
   "execution_count": 16,
   "metadata": {
    "ExecuteTime": {
     "end_time": "2023-04-29T17:56:39.014698Z",
     "start_time": "2023-04-29T17:56:39.008081Z"
    }
   },
   "outputs": [
    {
     "name": "stdout",
     "output_type": "stream",
     "text": [
      "The correlation matrix Rx is:\n",
      "[[ 1.          0.73203021  0.92073688 -0.44908871  0.3086067   0.27348302]\n",
      " [ 0.73203021  1.          0.75099404 -0.61431021  0.28142954  0.28502742]\n",
      " [ 0.92073688  0.75099404  1.         -0.3685477   0.40768712  0.48686768]\n",
      " [-0.44908871 -0.61431021 -0.3685477   1.          0.30316953  0.20228869]\n",
      " [ 0.3086067   0.28142954  0.40768712  0.30316953  1.          0.78192905]\n",
      " [ 0.27348302  0.28502742  0.48686768  0.20228869  0.78192905  1.        ]]\n"
     ]
    }
   ],
   "source": [
    "# 2. Deduce the correlation matrix Rx.\n",
    "n = Z.shape[0]\n",
    "\n",
    "Rx = np.corrcoef(Z, rowvar=False)\n",
    "\n",
    "print(f\"The correlation matrix Rx is:\\n{Rx}\")\n"
   ]
  },
  {
   "cell_type": "code",
   "execution_count": 17,
   "metadata": {
    "ExecuteTime": {
     "end_time": "2023-04-29T17:56:39.018299Z",
     "start_time": "2023-04-29T17:56:39.015696Z"
    }
   },
   "outputs": [
    {
     "name": "stdout",
     "output_type": "stream",
     "text": [
      "The spectrum of Rx is:\n",
      "[3.25811921 1.83716258 0.44298514 0.04003833 0.16794194 0.2537528 ]\n"
     ]
    }
   ],
   "source": [
    "# 3. Determine the spectrum of Rx.\n",
    "spectrum = eigvals(Rx)\n",
    "\n",
    "print(f\"The spectrum of Rx is:\\n{spectrum}\")\n"
   ]
  },
  {
   "cell_type": "code",
   "execution_count": 18,
   "metadata": {
    "ExecuteTime": {
     "end_time": "2023-04-29T17:56:39.021926Z",
     "start_time": "2023-04-29T17:56:39.020919Z"
    }
   },
   "outputs": [
    {
     "name": "stdout",
     "output_type": "stream",
     "text": [
      "The eigenvalues here are unsorted:\n",
      "[3.25811921 1.83716258 0.44298514 0.04003833 0.16794194 0.2537528 ]\n"
     ]
    }
   ],
   "source": [
    "# 4. Deduce the principle components matrix CX.\n",
    "# We first determine the eigenvectors of the matrix RX and sort the eigenvalues in descending order and arrange the eigenvectors accordingly.\n",
    "eigenvalues, eigenvectors = eig(Rx)\n",
    "print(f\"The eigenvalues here are unsorted:\\n{eigenvalues}\")\n"
   ]
  },
  {
   "cell_type": "code",
   "execution_count": 19,
   "metadata": {
    "ExecuteTime": {
     "end_time": "2023-04-29T17:56:39.027866Z",
     "start_time": "2023-04-29T17:56:39.023926Z"
    }
   },
   "outputs": [
    {
     "name": "stdout",
     "output_type": "stream",
     "text": [
      "The eigenvalues are:\n",
      "[3.25811921 1.83716258 0.44298514 0.2537528  0.16794194 0.04003833]\n"
     ]
    }
   ],
   "source": [
    "# Sorting the eigenvalues and rearranging the eigenvectors.\n",
    "idx = np.argsort(eigenvalues)[::-1]\n",
    "eigenvalues = eigenvalues[idx]\n",
    "eigenvectors = eigenvectors[:, idx]\n",
    "print(f\"The eigenvalues are:\\n{eigenvalues}\")\n"
   ]
  },
  {
   "cell_type": "code",
   "execution_count": 20,
   "metadata": {},
   "outputs": [
    {
     "name": "stdout",
     "output_type": "stream",
     "text": [
      "The principle components to keep are:\n",
      "['PC1', 'PC2']\n"
     ]
    }
   ],
   "source": [
    "# Given the eigenvalues above, we can chose how many principle components to retain by keeping the ones who's eigenvalues are >= 1\n",
    "to_keep = [f\"PC{i + 1}\" for i, x in enumerate(eigenvalues) if x >= 1]\n",
    "print(f\"The principle components to keep are:\\n{to_keep}\")\n"
   ]
  },
  {
   "cell_type": "code",
   "execution_count": 21,
   "metadata": {
    "ExecuteTime": {
     "end_time": "2023-04-29T17:56:39.139207Z",
     "start_time": "2023-04-29T17:56:39.028877Z"
    }
   },
   "outputs": [
    {
     "name": "stdout",
     "output_type": "stream",
     "text": [
      "The eigenvectors are:\n",
      "[[-0.49692861 -0.14888433  0.53660379 -0.02587016 -0.26950543  0.60798795]\n",
      " [-0.47931046 -0.2126972  -0.33370991 -0.45221096  0.6300059   0.11071088]\n",
      " [-0.52396858 -0.02880432  0.37314053  0.28326753  0.11584291 -0.70123699]\n",
      " [ 0.24650511  0.57998147  0.54088231 -0.19530814  0.51456529  0.0859089 ]\n",
      " [-0.29816727  0.56272899 -0.1726045  -0.54218997 -0.48388171 -0.19112448]\n",
      " [-0.31482039  0.52794057 -0.3729802   0.61844988  0.13461376  0.28714375]]\n"
     ]
    }
   ],
   "source": [
    "print(f\"The eigenvectors are:\\n{eigenvectors}\")\n"
   ]
  },
  {
   "cell_type": "code",
   "execution_count": 22,
   "metadata": {
    "ExecuteTime": {
     "end_time": "2023-04-29T17:56:39.160213Z",
     "start_time": "2023-04-29T17:56:39.033368Z"
    }
   },
   "outputs": [
    {
     "name": "stdout",
     "output_type": "stream",
     "text": [
      "The principle components matrix Cx is:\n",
      "[[-2.56156368 -3.05676612 -0.36540155 -0.16475613  0.07191725  0.14267434]\n",
      " [-0.96609577 -0.93702898  0.48789388 -0.57929029 -0.0380454   0.04733533]\n",
      " [ 0.67648541  0.66242001  0.22733412  0.25652026  0.032257   -0.11967613]\n",
      " [-2.79689126  1.46363838  0.92105278 -0.26031949 -0.1240099  -0.16903506]\n",
      " [-1.84233706 -0.12113036 -0.23072895 -0.80534646  0.10315204  0.21817136]\n",
      " [ 1.88908347 -0.13498795  0.70642284  0.30073546 -0.18330472  0.15964043]\n",
      " [-2.33961725  1.54865603 -0.94034989  0.3559192  -0.25709211 -0.3623026 ]\n",
      " [ 0.72750744  2.20538921 -0.52131625 -0.33920621  0.81956268  0.18530585]\n",
      " [ 2.839967   -0.54232985 -0.1457981  -0.71983016  0.41964018 -0.38483104]\n",
      " [ 2.17333288 -0.61166227  1.04318439 -0.25765916 -0.30484666 -0.09961991]\n",
      " [ 1.29402112 -2.03727937 -1.10347367  0.56799912  0.21243543 -0.10732604]\n",
      " [-0.99471009 -0.81806964  0.77252773  0.94539609  0.13820534 -0.05513262]\n",
      " [-0.60991662  0.87301285  0.25625877  0.66457012  0.48680168  0.17275501]\n",
      " [ 2.0149948   0.94699216 -0.37788618  0.22502406 -0.37511002  0.29730566]\n",
      " [ 0.49573961  0.5591459  -0.72971992 -0.18975642 -1.00156278  0.07473541]]\n"
     ]
    }
   ],
   "source": [
    "Cx = Z @ eigenvectors\n",
    "print(f\"The principle components matrix Cx is:\\n{Cx}\")\n"
   ]
  },
  {
   "cell_type": "code",
   "execution_count": 23,
   "metadata": {
    "ExecuteTime": {
     "end_time": "2023-04-29T17:56:39.161213Z",
     "start_time": "2023-04-29T17:56:39.044488Z"
    }
   },
   "outputs": [
    {
     "name": "stdout",
     "output_type": "stream",
     "text": [
      "The cumulative variance is:\n",
      "[0.54301987 0.84921363 0.92304449 0.96533662 0.99332695 1.        ]\n",
      "Number of principal components to retain: 2\n"
     ]
    }
   ],
   "source": [
    "# 5. Decide how many principle components we should retain. Justify your decision.\n",
    "# We'll use the Proportion of the total variance criterion method this time  with a threshold of 75%.\n",
    "cumulative_variance = np.cumsum(eigenvalues) / np.sum(eigenvalues)\n",
    "print(f\"The cumulative variance is:\\n{cumulative_variance}\")\n",
    "n_components = np.argmax(cumulative_variance >= 0.75) + 1\n",
    "print(f\"Number of principal components to retain: {n_components}\")\n"
   ]
  },
  {
   "cell_type": "code",
   "execution_count": 24,
   "metadata": {},
   "outputs": [
    {
     "name": "stdout",
     "output_type": "stream",
     "text": [
      "Our predictions were right! The proportion of the total variance criterion and the eigenvalue criterion were equivalent in this case.\n"
     ]
    }
   ],
   "source": [
    "# 6. Say whether we were able to predict the result of PCA earlier.\n",
    "if len(to_keep) == n_components:\n",
    "    print(\n",
    "        \"Our predictions were right! The proportion of the total variance criterion and the eigenvalue criterion were equivalent in this case.\"\n",
    "    )\n",
    "else:\n",
    "    print(\n",
    "        \"Our predictions were wrong! The proportion of the total variance criterion and the eigenvalue criterion were not equivalent in this case.\"\n",
    "    )"
   ]
  }
 ],
 "metadata": {
  "kernelspec": {
   "display_name": "Python 3",
   "language": "python",
   "name": "python3"
  },
  "language_info": {
   "codemirror_mode": {
    "name": "ipython",
    "version": 3
   },
   "file_extension": ".py",
   "mimetype": "text/x-python",
   "name": "python",
   "nbconvert_exporter": "python",
   "pygments_lexer": "ipython3",
   "version": "3.11.3"
  },
  "orig_nbformat": 4
 },
 "nbformat": 4,
 "nbformat_minor": 2
}
