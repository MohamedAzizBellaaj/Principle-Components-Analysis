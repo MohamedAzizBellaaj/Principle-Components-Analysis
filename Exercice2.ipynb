{
 "cells": [
  {
   "cell_type": "code",
   "execution_count": 1,
   "metadata": {
    "ExecuteTime": {
     "end_time": "2023-04-29T17:56:38.997080Z",
     "start_time": "2023-04-29T17:56:38.022800Z"
    }
   },
   "outputs": [],
   "source": [
    "import numpy as np\n",
    "from sklearn.preprocessing import StandardScaler\n",
    "from numpy.linalg import eigvals\n",
    "from numpy.linalg import eig\n"
   ]
  },
  {
   "cell_type": "code",
   "execution_count": 2,
   "metadata": {
    "ExecuteTime": {
     "end_time": "2023-04-29T17:56:39.003483Z",
     "start_time": "2023-04-29T17:56:38.996027Z"
    }
   },
   "outputs": [
    {
     "name": "stdout",
     "output_type": "stream",
     "text": [
      "X is:\n",
      "[[ 1.  1.  3.]\n",
      " [-1. -1.  3.]\n",
      " [ 1.  1. -3.]\n",
      " [-1. -1. -3.]\n",
      " [ 1. -1.  0.]\n",
      " [-1.  1.  0.]]\n"
     ]
    }
   ],
   "source": [
    "# Load CSV file into a numpy array\n",
    "X = np.genfromtxt(\"./data/Ex2_data.csv\", delimiter=\",\")\n",
    "\n",
    "# Print the data\n",
    "print(f\"X is:\\n{X}\")\n"
   ]
  },
  {
   "cell_type": "code",
   "execution_count": 3,
   "metadata": {
    "ExecuteTime": {
     "end_time": "2023-04-29T17:56:39.008020Z",
     "start_time": "2023-04-29T17:56:39.003483Z"
    }
   },
   "outputs": [
    {
     "name": "stdout",
     "output_type": "stream",
     "text": [
      "The standardized data matrix Z is:\n",
      "[[ 1.          1.          1.22474487]\n",
      " [-1.         -1.          1.22474487]\n",
      " [ 1.          1.         -1.22474487]\n",
      " [-1.         -1.         -1.22474487]\n",
      " [ 1.         -1.          0.        ]\n",
      " [-1.          1.          0.        ]]\n"
     ]
    }
   ],
   "source": [
    "# 1. Determine the standardized data matrix Z.\n",
    "scaler = StandardScaler()\n",
    "Z = scaler.fit_transform(X)\n",
    "\n",
    "print(f\"The standardized data matrix Z is:\\n{Z}\")\n"
   ]
  },
  {
   "cell_type": "code",
   "execution_count": 4,
   "metadata": {
    "ExecuteTime": {
     "end_time": "2023-04-29T17:56:39.014698Z",
     "start_time": "2023-04-29T17:56:39.008081Z"
    }
   },
   "outputs": [
    {
     "name": "stdout",
     "output_type": "stream",
     "text": [
      "The correlation matrix Rx is:\n",
      "[[1.         0.33333333 0.        ]\n",
      " [0.33333333 1.         0.        ]\n",
      " [0.         0.         1.        ]]\n"
     ]
    }
   ],
   "source": [
    "# 2. Deduce the correlation matrix Rx.\n",
    "n = Z.shape[0]\n",
    "\n",
    "Rx = np.corrcoef(Z, rowvar=False)\n",
    "\n",
    "print(f\"The correlation matrix Rx is:\\n{Rx}\")"
   ]
  },
  {
   "cell_type": "code",
   "execution_count": 5,
   "metadata": {
    "ExecuteTime": {
     "end_time": "2023-04-29T17:56:39.018299Z",
     "start_time": "2023-04-29T17:56:39.015696Z"
    }
   },
   "outputs": [
    {
     "name": "stdout",
     "output_type": "stream",
     "text": [
      "The spectrum of Rx is:\n",
      "[1.33333333 0.66666667 1.        ]\n"
     ]
    }
   ],
   "source": [
    "# 3. Determine the spectrum of Rx.\n",
    "spectrum = eigvals(Rx)\n",
    "\n",
    "print(f\"The spectrum of Rx is:\\n{spectrum}\")\n"
   ]
  },
  {
   "cell_type": "code",
   "execution_count": 6,
   "metadata": {
    "ExecuteTime": {
     "end_time": "2023-04-29T17:56:39.021926Z",
     "start_time": "2023-04-29T17:56:39.020919Z"
    }
   },
   "outputs": [
    {
     "name": "stdout",
     "output_type": "stream",
     "text": [
      "The eigenvalues here are unsorted:\n",
      "[1.33333333 0.66666667 1.        ]\n"
     ]
    }
   ],
   "source": [
    "# 4. Deduce the principle components matrix CX.\n",
    "# We first determine the eigenvectors of the matrix RX and sort the eigenvalues in descending order and arrange the eigenvectors accordingly.\n",
    "eigenvalues, eigenvectors = eig(Rx)\n",
    "print(f\"The eigenvalues here are unsorted:\\n{eigenvalues}\")\n"
   ]
  },
  {
   "cell_type": "code",
   "execution_count": 7,
   "metadata": {
    "ExecuteTime": {
     "end_time": "2023-04-29T17:56:39.027866Z",
     "start_time": "2023-04-29T17:56:39.023926Z"
    }
   },
   "outputs": [
    {
     "name": "stdout",
     "output_type": "stream",
     "text": [
      "The eigenvalues are:\n",
      "[1.33333333 1.         0.66666667]\n"
     ]
    }
   ],
   "source": [
    "# Sorting the eigenvalues and rearranging the eigenvectors.\n",
    "idx = np.argsort(eigenvalues)[::-1]\n",
    "eigenvalues = eigenvalues[idx]\n",
    "eigenvectors = eigenvectors[:, idx]\n",
    "print(f\"The eigenvalues are:\\n{eigenvalues}\")\n"
   ]
  },
  {
   "cell_type": "code",
   "execution_count": 8,
   "metadata": {},
   "outputs": [
    {
     "name": "stdout",
     "output_type": "stream",
     "text": [
      "The principle components to keep are:\n",
      "['PC1']\n"
     ]
    }
   ],
   "source": [
    "# Given the eigenvalues above, we can chose how many principle components to retain by keeping the ones who's eigenvalues are >= 1\n",
    "to_keep = [f\"PC{i + 1}\" for i, x in enumerate(eigenvalues) if x >= 1]\n",
    "print(f\"The principle components to keep are:\\n{to_keep}\")\n"
   ]
  },
  {
   "cell_type": "code",
   "execution_count": 9,
   "metadata": {
    "ExecuteTime": {
     "end_time": "2023-04-29T17:56:39.139207Z",
     "start_time": "2023-04-29T17:56:39.028877Z"
    }
   },
   "outputs": [
    {
     "name": "stdout",
     "output_type": "stream",
     "text": [
      "The eigenvectors are:\n",
      "[[ 0.70710678  0.         -0.70710678]\n",
      " [ 0.70710678  0.          0.70710678]\n",
      " [ 0.          1.          0.        ]]\n"
     ]
    }
   ],
   "source": [
    "print(f\"The eigenvectors are:\\n{eigenvectors}\")\n"
   ]
  },
  {
   "cell_type": "code",
   "execution_count": 10,
   "metadata": {
    "ExecuteTime": {
     "end_time": "2023-04-29T17:56:39.160213Z",
     "start_time": "2023-04-29T17:56:39.033368Z"
    }
   },
   "outputs": [
    {
     "name": "stdout",
     "output_type": "stream",
     "text": [
      "The principle components matrix Cx is:\n",
      "[[ 1.41421356e+00  1.22474487e+00  1.11022302e-16]\n",
      " [-1.41421356e+00  1.22474487e+00 -1.11022302e-16]\n",
      " [ 1.41421356e+00 -1.22474487e+00  1.11022302e-16]\n",
      " [-1.41421356e+00 -1.22474487e+00 -1.11022302e-16]\n",
      " [ 1.11022302e-16  0.00000000e+00 -1.41421356e+00]\n",
      " [-1.11022302e-16  0.00000000e+00  1.41421356e+00]]\n"
     ]
    }
   ],
   "source": [
    "Cx = Z @ eigenvectors\n",
    "print(f\"The principle components matrix Cx is:\\n{Cx}\")\n"
   ]
  },
  {
   "cell_type": "code",
   "execution_count": 11,
   "metadata": {
    "ExecuteTime": {
     "end_time": "2023-04-29T17:56:39.161213Z",
     "start_time": "2023-04-29T17:56:39.044488Z"
    }
   },
   "outputs": [
    {
     "name": "stdout",
     "output_type": "stream",
     "text": [
      "The cumulative variance is:\n",
      "[0.44444444 0.77777778 1.        ]\n",
      "Number of principal components to retain: 2\n"
     ]
    }
   ],
   "source": [
    "# 5. Decide how many principle components we should retain. Justify your decision.\n",
    "# We'll use the Proportion of the total variance criterion method this time with a threshold of 75%.\n",
    "cumulative_variance = np.cumsum(eigenvalues) / np.sum(eigenvalues)\n",
    "print(f\"The cumulative variance is:\\n{cumulative_variance}\")\n",
    "n_components = np.argmax(cumulative_variance >= 0.75) + 1\n",
    "print(f\"Number of principal components to retain: {n_components}\")\n"
   ]
  },
  {
   "cell_type": "code",
   "execution_count": 12,
   "metadata": {},
   "outputs": [
    {
     "name": "stdout",
     "output_type": "stream",
     "text": [
      "Our predictions were wrong! The proportion of the total variance criterion and the eigenvalue criterion were not equivalent in this case.\n"
     ]
    }
   ],
   "source": [
    "# 6. Say whether we were able to predict the result of PCA earlier.\n",
    "if len(to_keep) == n_components:\n",
    "    print(\n",
    "        \"Our predictions were right! The proportion of the total variance criterion and the eigenvalue criterion were equivalent in this case.\"\n",
    "    )\n",
    "else:\n",
    "    print(\n",
    "        \"Our predictions were wrong! The proportion of the total variance criterion and the eigenvalue criterion were not equivalent in this case.\"\n",
    "    )"
   ]
  }
 ],
 "metadata": {
  "kernelspec": {
   "display_name": "Python 3",
   "language": "python",
   "name": "python3"
  },
  "language_info": {
   "codemirror_mode": {
    "name": "ipython",
    "version": 3
   },
   "file_extension": ".py",
   "mimetype": "text/x-python",
   "name": "python",
   "nbconvert_exporter": "python",
   "pygments_lexer": "ipython3",
   "version": "3.11.3"
  },
  "orig_nbformat": 4
 },
 "nbformat": 4,
 "nbformat_minor": 2
}
